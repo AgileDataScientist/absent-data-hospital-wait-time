{
  "nbformat": 4,
  "nbformat_minor": 0,
  "metadata": {
    "colab": {
      "provenance": [],
      "collapsed_sections": [],
      "authorship_tag": "ABX9TyOqTbsAt7re3r+zxBdpZXnU",
      "include_colab_link": true
    },
    "kernelspec": {
      "name": "python3",
      "display_name": "Python 3"
    },
    "language_info": {
      "name": "python"
    }
  },
  "cells": [
    {
      "cell_type": "markdown",
      "metadata": {
        "id": "view-in-github",
        "colab_type": "text"
      },
      "source": [
        "<a href=\"https://colab.research.google.com/github/AgileDataScientist/absent-data-hospital-wait-time/blob/main/Hospital_Wait_Time.ipynb\" target=\"_parent\"><img src=\"https://colab.research.google.com/assets/colab-badge.svg\" alt=\"Open In Colab\"/></a>"
      ]
    },
    {
      "cell_type": "code",
      "source": [
        "!pip install plotly\n",
        "!pip install xlrd\n",
        "!pip install pyjanitor"
      ],
      "metadata": {
        "colab": {
          "base_uri": "https://localhost:8080/"
        },
        "id": "vZUMIj-cErPm",
        "outputId": "67fcc7f9-63cc-4d52-a599-a35f8b7be95c"
      },
      "execution_count": 22,
      "outputs": [
        {
          "output_type": "stream",
          "name": "stdout",
          "text": [
            "Looking in indexes: https://pypi.org/simple, https://us-python.pkg.dev/colab-wheels/public/simple/\n",
            "Requirement already satisfied: plotly in /usr/local/lib/python3.7/dist-packages (5.5.0)\n",
            "Requirement already satisfied: six in /usr/local/lib/python3.7/dist-packages (from plotly) (1.15.0)\n",
            "Requirement already satisfied: tenacity>=6.2.0 in /usr/local/lib/python3.7/dist-packages (from plotly) (8.1.0)\n",
            "Looking in indexes: https://pypi.org/simple, https://us-python.pkg.dev/colab-wheels/public/simple/\n",
            "Requirement already satisfied: xlrd in /usr/local/lib/python3.7/dist-packages (1.1.0)\n",
            "Looking in indexes: https://pypi.org/simple, https://us-python.pkg.dev/colab-wheels/public/simple/\n",
            "Collecting pyjanitor\n",
            "  Downloading pyjanitor-0.23.1-py3-none-any.whl (147 kB)\n",
            "\u001b[K     |████████████████████████████████| 147 kB 7.4 MB/s \n",
            "\u001b[?25hRequirement already satisfied: natsort in /usr/local/lib/python3.7/dist-packages (from pyjanitor) (5.5.0)\n",
            "Requirement already satisfied: multipledispatch in /usr/local/lib/python3.7/dist-packages (from pyjanitor) (0.6.0)\n",
            "Collecting pandas-flavor\n",
            "  Downloading pandas_flavor-0.3.0-py3-none-any.whl (6.3 kB)\n",
            "Requirement already satisfied: scipy in /usr/local/lib/python3.7/dist-packages (from pyjanitor) (1.7.3)\n",
            "Requirement already satisfied: six in /usr/local/lib/python3.7/dist-packages (from multipledispatch->pyjanitor) (1.15.0)\n",
            "  Downloading pandas_flavor-0.2.0-py2.py3-none-any.whl (6.6 kB)\n",
            "Requirement already satisfied: pandas in /usr/local/lib/python3.7/dist-packages (from pandas-flavor->pyjanitor) (1.3.5)\n",
            "Requirement already satisfied: xarray in /usr/local/lib/python3.7/dist-packages (from pandas-flavor->pyjanitor) (0.20.2)\n",
            "Requirement already satisfied: pytz>=2017.3 in /usr/local/lib/python3.7/dist-packages (from pandas->pandas-flavor->pyjanitor) (2022.5)\n",
            "Requirement already satisfied: python-dateutil>=2.7.3 in /usr/local/lib/python3.7/dist-packages (from pandas->pandas-flavor->pyjanitor) (2.8.2)\n",
            "Requirement already satisfied: numpy>=1.17.3 in /usr/local/lib/python3.7/dist-packages (from pandas->pandas-flavor->pyjanitor) (1.21.6)\n",
            "Requirement already satisfied: importlib-metadata in /usr/local/lib/python3.7/dist-packages (from xarray->pandas-flavor->pyjanitor) (4.13.0)\n",
            "Requirement already satisfied: typing-extensions>=3.7 in /usr/local/lib/python3.7/dist-packages (from xarray->pandas-flavor->pyjanitor) (4.1.1)\n",
            "Requirement already satisfied: zipp>=0.5 in /usr/local/lib/python3.7/dist-packages (from importlib-metadata->xarray->pandas-flavor->pyjanitor) (3.10.0)\n",
            "Installing collected packages: pandas-flavor, pyjanitor\n",
            "Successfully installed pandas-flavor-0.2.0 pyjanitor-0.23.1\n"
          ]
        }
      ]
    },
    {
      "cell_type": "code",
      "execution_count": 28,
      "metadata": {
        "colab": {
          "base_uri": "https://localhost:8080/"
        },
        "id": "y4OGSnW7CGod",
        "outputId": "0bc9fcb4-9ad7-4ec8-d515-c9c13f1b94da"
      },
      "outputs": [
        {
          "output_type": "stream",
          "name": "stdout",
          "text": [
            "Drive already mounted at /content/myDrive; to attempt to forcibly remount, call drive.mount(\"/content/myDrive\", force_remount=True).\n"
          ]
        }
      ],
      "source": [
        "# Standard imports\n",
        "import pandas as pd\n",
        "import numpy as np\n",
        "\n",
        "# pyjanitor import\n",
        "import janitor\n",
        "from janitor import clean_names, remove_empty\n",
        "\n",
        "# Mount Google drive\n",
        "from google.colab import drive\n",
        "drive.mount('/content/myDrive')"
      ]
    },
    {
      "cell_type": "code",
      "source": [
        "hospital_df = pd.read_excel('/content/myDrive/MyDrive/Data Analyst Portfolio/Data Analysis Hospital Wait Time/hospital_data_sample.xlsx', sheet_name='Sheet1')\n",
        "hospital_df.head()"
      ],
      "metadata": {
        "colab": {
          "base_uri": "https://localhost:8080/",
          "height": 206
        },
        "id": "1uFZGDbRFMM2",
        "outputId": "19b242d6-697b-4e87-dd07-ea02d8ed8be9"
      },
      "execution_count": 24,
      "outputs": [
        {
          "output_type": "execute_result",
          "data": {
            "text/plain": [
              "        Date  Medication Revenue    Lab Cost   Consultation Revenue   \\\n",
              "0 2019-11-04              1183.22          10                  20.17   \n",
              "1 2019-11-06               738.48       $-                        15   \n",
              "2 2019-11-02                  660       $-                     21.17   \n",
              "3 2019-11-06                  600       $-                     $-      \n",
              "4 2019-11-01                591.6       $-                        12   \n",
              "\n",
              "  Doctor Type Financial Class Patient Type Entry Time Post-Consultation Time  \\\n",
              "0      ANCHOR             HMO   OUTPATIENT   08:35:45               09:17:54   \n",
              "1      ANCHOR       INSURANCE   OUTPATIENT   19:19:16               21:02:36   \n",
              "2      ANCHOR             HMO   OUTPATIENT   10:46:52               11:56:25   \n",
              "3      ANCHOR        MEDICARE   OUTPATIENT   09:38:34               10:55:50   \n",
              "4      ANCHOR       INSURANCE   OUTPATIENT   11:16:21               12:06:49   \n",
              "\n",
              "  Completion Time Patient ID  \n",
              "0        09:29:46     C10001  \n",
              "1        21:24:07     C10002  \n",
              "2        12:06:28     C10003  \n",
              "3        10:58:02     C10004  \n",
              "4        12:06:54     C10005  "
            ],
            "text/html": [
              "\n",
              "  <div id=\"df-a50828bf-96eb-4a79-a9fe-88b987030152\">\n",
              "    <div class=\"colab-df-container\">\n",
              "      <div>\n",
              "<style scoped>\n",
              "    .dataframe tbody tr th:only-of-type {\n",
              "        vertical-align: middle;\n",
              "    }\n",
              "\n",
              "    .dataframe tbody tr th {\n",
              "        vertical-align: top;\n",
              "    }\n",
              "\n",
              "    .dataframe thead th {\n",
              "        text-align: right;\n",
              "    }\n",
              "</style>\n",
              "<table border=\"1\" class=\"dataframe\">\n",
              "  <thead>\n",
              "    <tr style=\"text-align: right;\">\n",
              "      <th></th>\n",
              "      <th>Date</th>\n",
              "      <th>Medication Revenue</th>\n",
              "      <th>Lab Cost</th>\n",
              "      <th>Consultation Revenue</th>\n",
              "      <th>Doctor Type</th>\n",
              "      <th>Financial Class</th>\n",
              "      <th>Patient Type</th>\n",
              "      <th>Entry Time</th>\n",
              "      <th>Post-Consultation Time</th>\n",
              "      <th>Completion Time</th>\n",
              "      <th>Patient ID</th>\n",
              "    </tr>\n",
              "  </thead>\n",
              "  <tbody>\n",
              "    <tr>\n",
              "      <th>0</th>\n",
              "      <td>2019-11-04</td>\n",
              "      <td>1183.22</td>\n",
              "      <td>10</td>\n",
              "      <td>20.17</td>\n",
              "      <td>ANCHOR</td>\n",
              "      <td>HMO</td>\n",
              "      <td>OUTPATIENT</td>\n",
              "      <td>08:35:45</td>\n",
              "      <td>09:17:54</td>\n",
              "      <td>09:29:46</td>\n",
              "      <td>C10001</td>\n",
              "    </tr>\n",
              "    <tr>\n",
              "      <th>1</th>\n",
              "      <td>2019-11-06</td>\n",
              "      <td>738.48</td>\n",
              "      <td>$-</td>\n",
              "      <td>15</td>\n",
              "      <td>ANCHOR</td>\n",
              "      <td>INSURANCE</td>\n",
              "      <td>OUTPATIENT</td>\n",
              "      <td>19:19:16</td>\n",
              "      <td>21:02:36</td>\n",
              "      <td>21:24:07</td>\n",
              "      <td>C10002</td>\n",
              "    </tr>\n",
              "    <tr>\n",
              "      <th>2</th>\n",
              "      <td>2019-11-02</td>\n",
              "      <td>660</td>\n",
              "      <td>$-</td>\n",
              "      <td>21.17</td>\n",
              "      <td>ANCHOR</td>\n",
              "      <td>HMO</td>\n",
              "      <td>OUTPATIENT</td>\n",
              "      <td>10:46:52</td>\n",
              "      <td>11:56:25</td>\n",
              "      <td>12:06:28</td>\n",
              "      <td>C10003</td>\n",
              "    </tr>\n",
              "    <tr>\n",
              "      <th>3</th>\n",
              "      <td>2019-11-06</td>\n",
              "      <td>600</td>\n",
              "      <td>$-</td>\n",
              "      <td>$-</td>\n",
              "      <td>ANCHOR</td>\n",
              "      <td>MEDICARE</td>\n",
              "      <td>OUTPATIENT</td>\n",
              "      <td>09:38:34</td>\n",
              "      <td>10:55:50</td>\n",
              "      <td>10:58:02</td>\n",
              "      <td>C10004</td>\n",
              "    </tr>\n",
              "    <tr>\n",
              "      <th>4</th>\n",
              "      <td>2019-11-01</td>\n",
              "      <td>591.6</td>\n",
              "      <td>$-</td>\n",
              "      <td>12</td>\n",
              "      <td>ANCHOR</td>\n",
              "      <td>INSURANCE</td>\n",
              "      <td>OUTPATIENT</td>\n",
              "      <td>11:16:21</td>\n",
              "      <td>12:06:49</td>\n",
              "      <td>12:06:54</td>\n",
              "      <td>C10005</td>\n",
              "    </tr>\n",
              "  </tbody>\n",
              "</table>\n",
              "</div>\n",
              "      <button class=\"colab-df-convert\" onclick=\"convertToInteractive('df-a50828bf-96eb-4a79-a9fe-88b987030152')\"\n",
              "              title=\"Convert this dataframe to an interactive table.\"\n",
              "              style=\"display:none;\">\n",
              "        \n",
              "  <svg xmlns=\"http://www.w3.org/2000/svg\" height=\"24px\"viewBox=\"0 0 24 24\"\n",
              "       width=\"24px\">\n",
              "    <path d=\"M0 0h24v24H0V0z\" fill=\"none\"/>\n",
              "    <path d=\"M18.56 5.44l.94 2.06.94-2.06 2.06-.94-2.06-.94-.94-2.06-.94 2.06-2.06.94zm-11 1L8.5 8.5l.94-2.06 2.06-.94-2.06-.94L8.5 2.5l-.94 2.06-2.06.94zm10 10l.94 2.06.94-2.06 2.06-.94-2.06-.94-.94-2.06-.94 2.06-2.06.94z\"/><path d=\"M17.41 7.96l-1.37-1.37c-.4-.4-.92-.59-1.43-.59-.52 0-1.04.2-1.43.59L10.3 9.45l-7.72 7.72c-.78.78-.78 2.05 0 2.83L4 21.41c.39.39.9.59 1.41.59.51 0 1.02-.2 1.41-.59l7.78-7.78 2.81-2.81c.8-.78.8-2.07 0-2.86zM5.41 20L4 18.59l7.72-7.72 1.47 1.35L5.41 20z\"/>\n",
              "  </svg>\n",
              "      </button>\n",
              "      \n",
              "  <style>\n",
              "    .colab-df-container {\n",
              "      display:flex;\n",
              "      flex-wrap:wrap;\n",
              "      gap: 12px;\n",
              "    }\n",
              "\n",
              "    .colab-df-convert {\n",
              "      background-color: #E8F0FE;\n",
              "      border: none;\n",
              "      border-radius: 50%;\n",
              "      cursor: pointer;\n",
              "      display: none;\n",
              "      fill: #1967D2;\n",
              "      height: 32px;\n",
              "      padding: 0 0 0 0;\n",
              "      width: 32px;\n",
              "    }\n",
              "\n",
              "    .colab-df-convert:hover {\n",
              "      background-color: #E2EBFA;\n",
              "      box-shadow: 0px 1px 2px rgba(60, 64, 67, 0.3), 0px 1px 3px 1px rgba(60, 64, 67, 0.15);\n",
              "      fill: #174EA6;\n",
              "    }\n",
              "\n",
              "    [theme=dark] .colab-df-convert {\n",
              "      background-color: #3B4455;\n",
              "      fill: #D2E3FC;\n",
              "    }\n",
              "\n",
              "    [theme=dark] .colab-df-convert:hover {\n",
              "      background-color: #434B5C;\n",
              "      box-shadow: 0px 1px 3px 1px rgba(0, 0, 0, 0.15);\n",
              "      filter: drop-shadow(0px 1px 2px rgba(0, 0, 0, 0.3));\n",
              "      fill: #FFFFFF;\n",
              "    }\n",
              "  </style>\n",
              "\n",
              "      <script>\n",
              "        const buttonEl =\n",
              "          document.querySelector('#df-a50828bf-96eb-4a79-a9fe-88b987030152 button.colab-df-convert');\n",
              "        buttonEl.style.display =\n",
              "          google.colab.kernel.accessAllowed ? 'block' : 'none';\n",
              "\n",
              "        async function convertToInteractive(key) {\n",
              "          const element = document.querySelector('#df-a50828bf-96eb-4a79-a9fe-88b987030152');\n",
              "          const dataTable =\n",
              "            await google.colab.kernel.invokeFunction('convertToInteractive',\n",
              "                                                     [key], {});\n",
              "          if (!dataTable) return;\n",
              "\n",
              "          const docLinkHtml = 'Like what you see? Visit the ' +\n",
              "            '<a target=\"_blank\" href=https://colab.research.google.com/notebooks/data_table.ipynb>data table notebook</a>'\n",
              "            + ' to learn more about interactive tables.';\n",
              "          element.innerHTML = '';\n",
              "          dataTable['output_type'] = 'display_data';\n",
              "          await google.colab.output.renderOutput(dataTable, element);\n",
              "          const docLink = document.createElement('div');\n",
              "          docLink.innerHTML = docLinkHtml;\n",
              "          element.appendChild(docLink);\n",
              "        }\n",
              "      </script>\n",
              "    </div>\n",
              "  </div>\n",
              "  "
            ]
          },
          "metadata": {},
          "execution_count": 24
        }
      ]
    },
    {
      "cell_type": "code",
      "source": [
        "hospital_df.info()"
      ],
      "metadata": {
        "colab": {
          "base_uri": "https://localhost:8080/"
        },
        "id": "rYwV8W56IXTq",
        "outputId": "bdcdbfe0-889c-49ed-fb33-097462ec28ae"
      },
      "execution_count": 25,
      "outputs": [
        {
          "output_type": "stream",
          "name": "stdout",
          "text": [
            "<class 'pandas.core.frame.DataFrame'>\n",
            "RangeIndex: 29998 entries, 0 to 29997\n",
            "Data columns (total 11 columns):\n",
            " #   Column                  Non-Null Count  Dtype         \n",
            "---  ------                  --------------  -----         \n",
            " 0   Date                    29998 non-null  datetime64[ns]\n",
            " 1    Medication Revenue     29998 non-null  object        \n",
            " 2     Lab Cost              29998 non-null  object        \n",
            " 3    Consultation Revenue   29998 non-null  object        \n",
            " 4   Doctor Type             29998 non-null  object        \n",
            " 5   Financial Class         29998 non-null  object        \n",
            " 6   Patient Type            29998 non-null  object        \n",
            " 7   Entry Time              29998 non-null  object        \n",
            " 8   Post-Consultation Time  29998 non-null  object        \n",
            " 9   Completion Time         29998 non-null  object        \n",
            " 10  Patient ID              29998 non-null  object        \n",
            "dtypes: datetime64[ns](1), object(10)\n",
            "memory usage: 2.5+ MB\n"
          ]
        }
      ]
    },
    {
      "cell_type": "code",
      "source": [
        "hospital_df = clean_names(hospital_df)\n",
        "hospital_df.head()"
      ],
      "metadata": {
        "colab": {
          "base_uri": "https://localhost:8080/",
          "height": 206
        },
        "id": "-pMTYRt7I3va",
        "outputId": "79a87070-0135-421e-a2fe-32c8bc2f5dff"
      },
      "execution_count": 33,
      "outputs": [
        {
          "output_type": "execute_result",
          "data": {
            "text/plain": [
              "        date _medication_revenue_ _lab_cost_ _consultation_revenue_  \\\n",
              "0 2019-11-04              1183.22         10                  20.17   \n",
              "1 2019-11-06               738.48      $-                        15   \n",
              "2 2019-11-02                  660      $-                     21.17   \n",
              "3 2019-11-06                  600      $-                     $-      \n",
              "4 2019-11-01                591.6      $-                        12   \n",
              "\n",
              "  doctor_type financial_class patient_type entry_time post_consultation_time  \\\n",
              "0      ANCHOR             HMO   OUTPATIENT   08:35:45               09:17:54   \n",
              "1      ANCHOR       INSURANCE   OUTPATIENT   19:19:16               21:02:36   \n",
              "2      ANCHOR             HMO   OUTPATIENT   10:46:52               11:56:25   \n",
              "3      ANCHOR        MEDICARE   OUTPATIENT   09:38:34               10:55:50   \n",
              "4      ANCHOR       INSURANCE   OUTPATIENT   11:16:21               12:06:49   \n",
              "\n",
              "  completion_time patient_id  \n",
              "0        09:29:46     C10001  \n",
              "1        21:24:07     C10002  \n",
              "2        12:06:28     C10003  \n",
              "3        10:58:02     C10004  \n",
              "4        12:06:54     C10005  "
            ],
            "text/html": [
              "\n",
              "  <div id=\"df-9f495dee-e1a4-47cf-911f-bac6759398b7\">\n",
              "    <div class=\"colab-df-container\">\n",
              "      <div>\n",
              "<style scoped>\n",
              "    .dataframe tbody tr th:only-of-type {\n",
              "        vertical-align: middle;\n",
              "    }\n",
              "\n",
              "    .dataframe tbody tr th {\n",
              "        vertical-align: top;\n",
              "    }\n",
              "\n",
              "    .dataframe thead th {\n",
              "        text-align: right;\n",
              "    }\n",
              "</style>\n",
              "<table border=\"1\" class=\"dataframe\">\n",
              "  <thead>\n",
              "    <tr style=\"text-align: right;\">\n",
              "      <th></th>\n",
              "      <th>date</th>\n",
              "      <th>_medication_revenue_</th>\n",
              "      <th>_lab_cost_</th>\n",
              "      <th>_consultation_revenue_</th>\n",
              "      <th>doctor_type</th>\n",
              "      <th>financial_class</th>\n",
              "      <th>patient_type</th>\n",
              "      <th>entry_time</th>\n",
              "      <th>post_consultation_time</th>\n",
              "      <th>completion_time</th>\n",
              "      <th>patient_id</th>\n",
              "    </tr>\n",
              "  </thead>\n",
              "  <tbody>\n",
              "    <tr>\n",
              "      <th>0</th>\n",
              "      <td>2019-11-04</td>\n",
              "      <td>1183.22</td>\n",
              "      <td>10</td>\n",
              "      <td>20.17</td>\n",
              "      <td>ANCHOR</td>\n",
              "      <td>HMO</td>\n",
              "      <td>OUTPATIENT</td>\n",
              "      <td>08:35:45</td>\n",
              "      <td>09:17:54</td>\n",
              "      <td>09:29:46</td>\n",
              "      <td>C10001</td>\n",
              "    </tr>\n",
              "    <tr>\n",
              "      <th>1</th>\n",
              "      <td>2019-11-06</td>\n",
              "      <td>738.48</td>\n",
              "      <td>$-</td>\n",
              "      <td>15</td>\n",
              "      <td>ANCHOR</td>\n",
              "      <td>INSURANCE</td>\n",
              "      <td>OUTPATIENT</td>\n",
              "      <td>19:19:16</td>\n",
              "      <td>21:02:36</td>\n",
              "      <td>21:24:07</td>\n",
              "      <td>C10002</td>\n",
              "    </tr>\n",
              "    <tr>\n",
              "      <th>2</th>\n",
              "      <td>2019-11-02</td>\n",
              "      <td>660</td>\n",
              "      <td>$-</td>\n",
              "      <td>21.17</td>\n",
              "      <td>ANCHOR</td>\n",
              "      <td>HMO</td>\n",
              "      <td>OUTPATIENT</td>\n",
              "      <td>10:46:52</td>\n",
              "      <td>11:56:25</td>\n",
              "      <td>12:06:28</td>\n",
              "      <td>C10003</td>\n",
              "    </tr>\n",
              "    <tr>\n",
              "      <th>3</th>\n",
              "      <td>2019-11-06</td>\n",
              "      <td>600</td>\n",
              "      <td>$-</td>\n",
              "      <td>$-</td>\n",
              "      <td>ANCHOR</td>\n",
              "      <td>MEDICARE</td>\n",
              "      <td>OUTPATIENT</td>\n",
              "      <td>09:38:34</td>\n",
              "      <td>10:55:50</td>\n",
              "      <td>10:58:02</td>\n",
              "      <td>C10004</td>\n",
              "    </tr>\n",
              "    <tr>\n",
              "      <th>4</th>\n",
              "      <td>2019-11-01</td>\n",
              "      <td>591.6</td>\n",
              "      <td>$-</td>\n",
              "      <td>12</td>\n",
              "      <td>ANCHOR</td>\n",
              "      <td>INSURANCE</td>\n",
              "      <td>OUTPATIENT</td>\n",
              "      <td>11:16:21</td>\n",
              "      <td>12:06:49</td>\n",
              "      <td>12:06:54</td>\n",
              "      <td>C10005</td>\n",
              "    </tr>\n",
              "  </tbody>\n",
              "</table>\n",
              "</div>\n",
              "      <button class=\"colab-df-convert\" onclick=\"convertToInteractive('df-9f495dee-e1a4-47cf-911f-bac6759398b7')\"\n",
              "              title=\"Convert this dataframe to an interactive table.\"\n",
              "              style=\"display:none;\">\n",
              "        \n",
              "  <svg xmlns=\"http://www.w3.org/2000/svg\" height=\"24px\"viewBox=\"0 0 24 24\"\n",
              "       width=\"24px\">\n",
              "    <path d=\"M0 0h24v24H0V0z\" fill=\"none\"/>\n",
              "    <path d=\"M18.56 5.44l.94 2.06.94-2.06 2.06-.94-2.06-.94-.94-2.06-.94 2.06-2.06.94zm-11 1L8.5 8.5l.94-2.06 2.06-.94-2.06-.94L8.5 2.5l-.94 2.06-2.06.94zm10 10l.94 2.06.94-2.06 2.06-.94-2.06-.94-.94-2.06-.94 2.06-2.06.94z\"/><path d=\"M17.41 7.96l-1.37-1.37c-.4-.4-.92-.59-1.43-.59-.52 0-1.04.2-1.43.59L10.3 9.45l-7.72 7.72c-.78.78-.78 2.05 0 2.83L4 21.41c.39.39.9.59 1.41.59.51 0 1.02-.2 1.41-.59l7.78-7.78 2.81-2.81c.8-.78.8-2.07 0-2.86zM5.41 20L4 18.59l7.72-7.72 1.47 1.35L5.41 20z\"/>\n",
              "  </svg>\n",
              "      </button>\n",
              "      \n",
              "  <style>\n",
              "    .colab-df-container {\n",
              "      display:flex;\n",
              "      flex-wrap:wrap;\n",
              "      gap: 12px;\n",
              "    }\n",
              "\n",
              "    .colab-df-convert {\n",
              "      background-color: #E8F0FE;\n",
              "      border: none;\n",
              "      border-radius: 50%;\n",
              "      cursor: pointer;\n",
              "      display: none;\n",
              "      fill: #1967D2;\n",
              "      height: 32px;\n",
              "      padding: 0 0 0 0;\n",
              "      width: 32px;\n",
              "    }\n",
              "\n",
              "    .colab-df-convert:hover {\n",
              "      background-color: #E2EBFA;\n",
              "      box-shadow: 0px 1px 2px rgba(60, 64, 67, 0.3), 0px 1px 3px 1px rgba(60, 64, 67, 0.15);\n",
              "      fill: #174EA6;\n",
              "    }\n",
              "\n",
              "    [theme=dark] .colab-df-convert {\n",
              "      background-color: #3B4455;\n",
              "      fill: #D2E3FC;\n",
              "    }\n",
              "\n",
              "    [theme=dark] .colab-df-convert:hover {\n",
              "      background-color: #434B5C;\n",
              "      box-shadow: 0px 1px 3px 1px rgba(0, 0, 0, 0.15);\n",
              "      filter: drop-shadow(0px 1px 2px rgba(0, 0, 0, 0.3));\n",
              "      fill: #FFFFFF;\n",
              "    }\n",
              "  </style>\n",
              "\n",
              "      <script>\n",
              "        const buttonEl =\n",
              "          document.querySelector('#df-9f495dee-e1a4-47cf-911f-bac6759398b7 button.colab-df-convert');\n",
              "        buttonEl.style.display =\n",
              "          google.colab.kernel.accessAllowed ? 'block' : 'none';\n",
              "\n",
              "        async function convertToInteractive(key) {\n",
              "          const element = document.querySelector('#df-9f495dee-e1a4-47cf-911f-bac6759398b7');\n",
              "          const dataTable =\n",
              "            await google.colab.kernel.invokeFunction('convertToInteractive',\n",
              "                                                     [key], {});\n",
              "          if (!dataTable) return;\n",
              "\n",
              "          const docLinkHtml = 'Like what you see? Visit the ' +\n",
              "            '<a target=\"_blank\" href=https://colab.research.google.com/notebooks/data_table.ipynb>data table notebook</a>'\n",
              "            + ' to learn more about interactive tables.';\n",
              "          element.innerHTML = '';\n",
              "          dataTable['output_type'] = 'display_data';\n",
              "          await google.colab.output.renderOutput(dataTable, element);\n",
              "          const docLink = document.createElement('div');\n",
              "          docLink.innerHTML = docLinkHtml;\n",
              "          element.appendChild(docLink);\n",
              "        }\n",
              "      </script>\n",
              "    </div>\n",
              "  </div>\n",
              "  "
            ]
          },
          "metadata": {},
          "execution_count": 33
        }
      ]
    },
    {
      "cell_type": "code",
      "source": [
        "from datetime import datetime\n",
        "\n",
        "# Convert time to time format\n",
        "hospital_df[\"entry_time\"] = pd.to_datetime(hospital_df[\"entry_time\"].astype(str))\n",
        "hospital_df[\"post_consultation_time\"] = pd.to_datetime(hospital_df[\"post_consultation_time\"].astype(str))\n",
        "hospital_df[\"completion_time\"] = pd.to_datetime(hospital_df[\"completion_time\"].astype(str))"
      ],
      "metadata": {
        "id": "tsh-CcifIlFB"
      },
      "execution_count": 66,
      "outputs": []
    },
    {
      "cell_type": "code",
      "source": [
        "hospital_df.info()"
      ],
      "metadata": {
        "colab": {
          "base_uri": "https://localhost:8080/"
        },
        "id": "XgntdXWCdPpx",
        "outputId": "cda2c8fb-1a82-45ce-f981-239eb642db5b"
      },
      "execution_count": 78,
      "outputs": [
        {
          "output_type": "stream",
          "name": "stdout",
          "text": [
            "<class 'pandas.core.frame.DataFrame'>\n",
            "RangeIndex: 29998 entries, 0 to 29997\n",
            "Data columns (total 12 columns):\n",
            " #   Column                  Non-Null Count  Dtype          \n",
            "---  ------                  --------------  -----          \n",
            " 0   date                    29998 non-null  datetime64[ns] \n",
            " 1   _medication_revenue_    29998 non-null  object         \n",
            " 2   _lab_cost_              29998 non-null  object         \n",
            " 3   _consultation_revenue_  29998 non-null  object         \n",
            " 4   doctor_type             29998 non-null  object         \n",
            " 5   financial_class         29998 non-null  object         \n",
            " 6   patient_type            29998 non-null  object         \n",
            " 7   entry_time              29998 non-null  datetime64[ns] \n",
            " 8   post_consultation_time  29998 non-null  datetime64[ns] \n",
            " 9   completion_time         29998 non-null  datetime64[ns] \n",
            " 10  patient_id              29998 non-null  object         \n",
            " 11  wait_time               29998 non-null  timedelta64[ns]\n",
            "dtypes: datetime64[ns](4), object(7), timedelta64[ns](1)\n",
            "memory usage: 2.7+ MB\n"
          ]
        }
      ]
    },
    {
      "cell_type": "code",
      "source": [
        "def time_difference(time1, time2):\n",
        "  difference = abs(pd.to_timedelta(time1 - time2))\n",
        "  return difference / np.timedelta64(1, 's') / 60"
      ],
      "metadata": {
        "id": "ZEHXtV-sh-vF"
      },
      "execution_count": 136,
      "outputs": []
    },
    {
      "cell_type": "code",
      "source": [
        "hospital_df[\"wait_time_min\"] = time_difference(hospital_df[\"entry_time\"], hospital_df[\"post_consultation_time\"])\n",
        "hospital_df[\"consultation_time_min\"] = time_difference(hospital_df[\"entry_time\"], hospital_df[\"completion_time\"])\n",
        "hospital_df[\"consultation_time_min\"]"
      ],
      "metadata": {
        "colab": {
          "base_uri": "https://localhost:8080/"
        },
        "id": "4S-pB6JTkHaB",
        "outputId": "5e99bf8d-4a0c-4554-c4ca-230dd5dc06b4"
      },
      "execution_count": 139,
      "outputs": [
        {
          "output_type": "execute_result",
          "data": {
            "text/plain": [
              "0         54.016667\n",
              "1        124.850000\n",
              "2         79.600000\n",
              "3         79.466667\n",
              "4         50.550000\n",
              "            ...    \n",
              "29993     14.300000\n",
              "29994     20.333333\n",
              "29995     14.800000\n",
              "29996     11.666667\n",
              "29997     17.116667\n",
              "Name: consultation_time_min, Length: 29998, dtype: float64"
            ]
          },
          "metadata": {},
          "execution_count": 139
        }
      ]
    },
    {
      "cell_type": "code",
      "source": [
        "date_format_str = '%d/%m/%Y %H:%M:%S.%f'\n",
        "start = datetime.strptime(date_1, date_format_str)\n",
        "end =   datetime.strptime(date_2, date_format_str)\n",
        "# Get interval between two datetimes as timedelta object\n",
        "diff = end - start\n",
        "# Get the interval in minutes\n",
        "diff_in_minutes = diff.total_seconds() / 60"
      ],
      "metadata": {
        "colab": {
          "base_uri": "https://localhost:8080/",
          "height": 183
        },
        "id": "P6cCXaFXg3vP",
        "outputId": "7f9868d6-500c-4b91-b477-0a62eadbf36e"
      },
      "execution_count": 74,
      "outputs": [
        {
          "output_type": "error",
          "ename": "NameError",
          "evalue": "ignored",
          "traceback": [
            "\u001b[0;31m---------------------------------------------------------------------------\u001b[0m",
            "\u001b[0;31mNameError\u001b[0m                                 Traceback (most recent call last)",
            "\u001b[0;32m<ipython-input-74-3f11203ab2eb>\u001b[0m in \u001b[0;36m<module>\u001b[0;34m\u001b[0m\n\u001b[0;32m----> 1\u001b[0;31m \u001b[0mvalue\u001b[0m \u001b[0;34m=\u001b[0m \u001b[0mtotal_seconds\u001b[0m\u001b[0;34m(\u001b[0m\u001b[0mhospital_df\u001b[0m\u001b[0;34m[\u001b[0m\u001b[0;34m:\u001b[0m\u001b[0mwait_time\u001b[0m\u001b[0;34m]\u001b[0m\u001b[0;34m)\u001b[0m \u001b[0;34m/\u001b[0m \u001b[0;36m60\u001b[0m\u001b[0;34m\u001b[0m\u001b[0;34m\u001b[0m\u001b[0m\n\u001b[0m\u001b[1;32m      2\u001b[0m \u001b[0mvalue\u001b[0m\u001b[0;34m\u001b[0m\u001b[0;34m\u001b[0m\u001b[0m\n",
            "\u001b[0;31mNameError\u001b[0m: name 'total_seconds' is not defined"
          ]
        }
      ]
    }
  ]
}